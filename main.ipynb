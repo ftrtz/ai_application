{
 "cells": [
  {
   "cell_type": "code",
   "execution_count": 5,
   "metadata": {
    "collapsed": true
   },
   "outputs": [],
   "source": [
    "# load TensorBoard\n",
    "%load_ext tensorboard\n",
    "\n",
    "# imports\n",
    "import datetime\n",
    "from tensorflow.keras.callbacks import TensorBoard, EarlyStopping\n",
    "from tensorflow.keras.datasets.mnist import load_data\n",
    "from ai_library import CustomData, NeuralNet"
   ]
  },
  {
   "cell_type": "code",
   "execution_count": 6,
   "outputs": [],
   "source": [
    "# new child class to load and preprocess MNIST dataset\n",
    "class MNISTdata(CustomData):\n",
    "    def __init__(self):\n",
    "        super(MNISTdata, self).__init__()\n",
    "\n",
    "    def load_mnist(self):\n",
    "        return load_data()"
   ],
   "metadata": {
    "collapsed": false,
    "pycharm": {
     "name": "#%%\n"
    }
   }
  },
  {
   "cell_type": "code",
   "execution_count": 7,
   "outputs": [],
   "source": [
    "# load MNIST data\n",
    "data_gen = MNISTdata()\n",
    "\n",
    "(x_train, y_train), (x_test, y_test) = data_gen.load_mnist()\n"
   ],
   "metadata": {
    "collapsed": false,
    "pycharm": {
     "name": "#%%\n"
    }
   }
  },
  {
   "cell_type": "code",
   "execution_count": 8,
   "outputs": [],
   "source": [
    "# preprocessing\n",
    "x_train, y_train, labels_train = data_gen.preprocessing(x_train, y_train)\n",
    "x_test, y_test, labels_test = data_gen.preprocessing(x_test, y_test)\n",
    "\n",
    "# input shape and number of classes\n",
    "inp_shape = x_train.shape\n",
    "num_classes = len(labels_train)"
   ],
   "metadata": {
    "collapsed": false,
    "pycharm": {
     "name": "#%%\n"
    }
   }
  },
  {
   "cell_type": "code",
   "execution_count": 9,
   "outputs": [],
   "source": [
    "# initialize model\n",
    "model = NeuralNet(num_classes)"
   ],
   "metadata": {
    "collapsed": false,
    "pycharm": {
     "name": "#%%\n"
    }
   }
  },
  {
   "cell_type": "code",
   "execution_count": 10,
   "outputs": [],
   "source": [
    "# Callbacks\n",
    "# early stopping\n",
    "early_stopping = EarlyStopping(monitor=\"loss\", patience=2)\n",
    "# tensorboard\n",
    "log_dir = \"logs/fit/\" + datetime.datetime.now().strftime(\"%Y%m%d-%H%M%S\")\n",
    "tensorboard_cb = TensorBoard(log_dir=log_dir, histogram_freq=1)\n",
    "\n",
    "callbacks =[early_stopping, tensorboard_cb]"
   ],
   "metadata": {
    "collapsed": false,
    "pycharm": {
     "name": "#%%\n"
    }
   }
  },
  {
   "cell_type": "code",
   "execution_count": 11,
   "outputs": [
    {
     "name": "stdout",
     "output_type": "stream",
     "text": [
      "Epoch 1/5\n",
      "375/375 - 39s - loss: 0.2510 - accuracy: 0.9201 - val_loss: 0.0703 - val_accuracy: 0.9770\n",
      "Epoch 2/5\n",
      "375/375 - 36s - loss: 0.0606 - accuracy: 0.9809 - val_loss: 0.0406 - val_accuracy: 0.9879\n",
      "Epoch 3/5\n",
      "375/375 - 37s - loss: 0.0429 - accuracy: 0.9872 - val_loss: 0.0300 - val_accuracy: 0.9914\n",
      "Epoch 4/5\n",
      "375/375 - 36s - loss: 0.0324 - accuracy: 0.9900 - val_loss: 0.0388 - val_accuracy: 0.9893\n",
      "Epoch 5/5\n",
      "375/375 - 36s - loss: 0.0265 - accuracy: 0.9914 - val_loss: 0.0336 - val_accuracy: 0.9913\n"
     ]
    }
   ],
   "source": [
    "# train model\n",
    "history = model.comp_and_fit(x_train, y_train, callbacks)"
   ],
   "metadata": {
    "collapsed": false,
    "pycharm": {
     "name": "#%%\n"
    }
   }
  },
  {
   "cell_type": "code",
   "execution_count": null,
   "outputs": [],
   "source": [
    "%tensorboard --logdir logs"
   ],
   "metadata": {
    "collapsed": false,
    "pycharm": {
     "name": "#%%\n"
    }
   }
  },
  {
   "cell_type": "code",
   "execution_count": 12,
   "outputs": [
    {
     "name": "stdout",
     "output_type": "stream",
     "text": [
      "Accuracy: 99.23 %\n"
     ]
    }
   ],
   "source": [
    "loss, accuracy = model.test_eval(x_test, y_test)\n",
    "print(\"Accuracy:\", round(accuracy*100, 2), \"%\")\n",
    "\n"
   ],
   "metadata": {
    "collapsed": false,
    "pycharm": {
     "name": "#%%\n"
    }
   }
  }
 ],
 "metadata": {
  "kernelspec": {
   "display_name": "Python 3",
   "language": "python",
   "name": "python3"
  },
  "language_info": {
   "codemirror_mode": {
    "name": "ipython",
    "version": 2
   },
   "file_extension": ".py",
   "mimetype": "text/x-python",
   "name": "python",
   "nbconvert_exporter": "python",
   "pygments_lexer": "ipython2",
   "version": "2.7.6"
  }
 },
 "nbformat": 4,
 "nbformat_minor": 0
}